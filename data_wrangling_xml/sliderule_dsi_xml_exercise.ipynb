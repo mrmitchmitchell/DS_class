{
 "cells": [
  {
   "cell_type": "markdown",
   "metadata": {},
   "source": [
    "# XML example and exercise\n",
    "****\n",
    "+ study examples of accessing nodes in XML tree structure  \n",
    "+ work on exercise to be completed and submitted\n",
    "****\n",
    "+ reference: https://docs.python.org/2.7/library/xml.etree.elementtree.html\n",
    "+ data source: http://www.dbis.informatik.uni-goettingen.de/Mondial\n",
    "****"
   ]
  },
  {
   "cell_type": "code",
   "execution_count": 6,
   "metadata": {
    "collapsed": true
   },
   "outputs": [],
   "source": [
    "from xml.etree import ElementTree as ET"
   ]
  },
  {
   "cell_type": "markdown",
   "metadata": {},
   "source": [
    "## XML example\n",
    "\n",
    "+ for details about tree traversal and iterators, see https://docs.python.org/2.7/library/xml.etree.elementtree.html"
   ]
  },
  {
   "cell_type": "code",
   "execution_count": 7,
   "metadata": {
    "collapsed": true
   },
   "outputs": [],
   "source": [
    "document_tree = ET.parse( './data/mondial_database_less.xml' )"
   ]
  },
  {
   "cell_type": "code",
   "execution_count": 9,
   "metadata": {
    "collapsed": false
   },
   "outputs": [
    {
     "name": "stdout",
     "output_type": "stream",
     "text": [
      "Albania\n",
      "Greece\n",
      "Macedonia\n",
      "Serbia\n",
      "Montenegro\n",
      "Kosovo\n",
      "Andorra\n"
     ]
    }
   ],
   "source": [
    "# print names of all countries\n",
    "for child in document_tree.getroot():\n",
    "    print (child.find('name').text)"
   ]
  },
  {
   "cell_type": "code",
   "execution_count": 10,
   "metadata": {
    "collapsed": false
   },
   "outputs": [
    {
     "name": "stdout",
     "output_type": "stream",
     "text": [
      "* Albania:\n",
      "Tirana, Shkodër, Durrës, Vlorë, Elbasan, Korçë\n",
      "* Greece:\n",
      "Komotini, Kavala, Athina, Peiraias, Peristeri, Acharnes, Patra, Kozani, Kerkyra, Ioannina, Thessaloniki, Iraklio, Chania, Ermoupoli, Rhodes, Tripoli, Lamia, Chalkida, Larissa, Volos, Mytilini, Karyes\n",
      "* Macedonia:\n",
      "Skopje, Kumanovo\n",
      "* Serbia:\n",
      "Beograd, Novi Sad, Niš\n",
      "* Montenegro:\n",
      "Podgorica\n",
      "* Kosovo:\n",
      "Prishtine\n",
      "* Andorra:\n",
      "Andorra la Vella\n"
     ]
    }
   ],
   "source": [
    "# print names of all countries and their cities\n",
    "for element in document_tree.iterfind('country'):\n",
    "    print ('* ' + element.find('name').text + ':',)\n",
    "    capitals_string = ''\n",
    "    for subelement in element.getiterator('city'):\n",
    "        capitals_string += subelement.find('name').text + ', '\n",
    "    print (capitals_string[:-2])"
   ]
  },
  {
   "cell_type": "markdown",
   "metadata": {},
   "source": [
    "****\n",
    "## XML exercise\n",
    "\n",
    "Using data in 'data/mondial_database.xml', the examples above, and refering to https://docs.python.org/2.7/library/xml.etree.elementtree.html, find\n",
    "\n",
    "1. 10 countries with the lowest infant mortality rates\n",
    "2. 10 cities with the largest population\n",
    "3. 10 ethnic groups with the largest overall populations (sum of best/latest estimates over all countries)\n",
    "4. name and country of a) longest river, b) largest lake and c) airport at highest elevation"
   ]
  },
  {
   "cell_type": "code",
   "execution_count": 155,
   "metadata": {
    "collapsed": false
   },
   "outputs": [],
   "source": [
    "#import pandas for dataframe\n",
    "import pandas as pd\n",
    "\n",
    "#create dataframe and declare index counter\n",
    "mort_df = pd.DataFrame(columns=('country','code','infant_mortality'))\n",
    "i = 0\n",
    "\n",
    "#parse document and add rows to dataframe\n",
    "document = ET.parse( './data/mondial_database.xml' )\n",
    "for element in document.iterfind('country'):\n",
    "    #check for nulls and do not add those to the df, cast columns as string and float\n",
    "    if element.find('infant_mortality') is not None:\n",
    "        mort_df.loc[i]=([str(element.find('name').text),str(element.get('car_code')),float(element.find('infant_mortality').text)])\n",
    "        i=i+1\n"
   ]
  },
  {
   "cell_type": "code",
   "execution_count": 255,
   "metadata": {
    "collapsed": false
   },
   "outputs": [
    {
     "name": "stdout",
     "output_type": "stream",
     "text": [
      "                    country  code  infant_mortality\n",
      "0                   Albania    AL             13.19\n",
      "1                    Greece    GR              4.78\n",
      "2                 Macedonia    MK              7.90\n",
      "3                    Serbia   SRB              6.16\n",
      "4                   Andorra   AND              3.69\n",
      "5                    France     F              3.31\n",
      "6                     Spain     E              3.33\n",
      "7                   Austria     A              4.16\n",
      "8            Czech Republic    CZ              2.63\n",
      "9                   Germany     D              3.46\n",
      "10                  Hungary     H              5.09\n",
      "11                    Italy     I              3.31\n",
      "12            Liechtenstein    FL              4.33\n",
      "13                 Slovakia    SK              5.35\n",
      "14                 Slovenia   SLO              4.04\n",
      "15              Switzerland    CH              3.73\n",
      "16                  Belarus    BY              3.64\n",
      "17                   Latvia    LV              7.91\n",
      "18                Lithuania    LT              6.00\n",
      "19                   Poland    PL              6.19\n",
      "20                  Ukraine    UA              8.10\n",
      "21                   Russia     R              7.08\n",
      "22                  Belgium     B              4.18\n",
      "23               Luxembourg     L              4.28\n",
      "24              Netherlands    NL              3.66\n",
      "25   Bosnia and Herzegovina   BIH              5.84\n",
      "26                  Croatia    HR              5.87\n",
      "27                 Bulgaria    BG             15.08\n",
      "28                  Romania    RO             10.16\n",
      "29                   Turkey    TR             21.43\n",
      "..                      ...   ...               ...\n",
      "198                    Chad   TCH             90.30\n",
      "199       Equatorial Guinea    GQ             71.12\n",
      "200                   Gabon     G             47.03\n",
      "201              Cape Verde    CV             24.28\n",
      "202                   Sudan   SUD             52.86\n",
      "203             South Sudan   SSD             68.16\n",
      "204                 Comoros   COM             65.31\n",
      "205                  Guinea    RG             55.24\n",
      "206                 Liberia    LB             69.19\n",
      "207                Djibouti   DJI             50.20\n",
      "208                 Eritrea    ER             38.44\n",
      "209                Ethiopia   ETH             55.77\n",
      "210                 Somalia    SP            100.14\n",
      "211                   Kenya   EAK             40.71\n",
      "212                  Gambia   WAG             65.74\n",
      "213                 Senegal    SN             52.72\n",
      "214           Guinea-Bissau   GNB             90.92\n",
      "215            Sierra Leone   WAL             73.29\n",
      "216                  Uganda   EAU             60.82\n",
      "217                 Lesotho    LS             50.48\n",
      "218              Madagascar    RM             44.88\n",
      "219                  Malawi    MW             48.01\n",
      "220              Mozambique   MOC             72.42\n",
      "221               Mauritius    MS             10.59\n",
      "222                 Mayotte  MAYO             56.29\n",
      "223               Swaziland    SD             54.82\n",
      "224                 Reunion  REUN              7.50\n",
      "225            Saint Helena  HELX             17.63\n",
      "226   Sao Tome and Principe   STP             49.16\n",
      "227              Seychelles    SY             10.77\n",
      "\n",
      "[228 rows x 3 columns]\n"
     ]
    }
   ],
   "source": [
    "#the filled dataframe with no nulls\n",
    "mort_df.drop_duplicates()\n",
    "print (mort_df)"
   ]
  },
  {
   "cell_type": "code",
   "execution_count": 264,
   "metadata": {
    "collapsed": false
   },
   "outputs": [
    {
     "data": {
      "text/html": [
       "<div>\n",
       "<table border=\"1\" class=\"dataframe\">\n",
       "  <thead>\n",
       "    <tr style=\"text-align: right;\">\n",
       "      <th></th>\n",
       "      <th>country</th>\n",
       "      <th>code</th>\n",
       "      <th>infant_mortality</th>\n",
       "    </tr>\n",
       "  </thead>\n",
       "  <tbody>\n",
       "    <tr>\n",
       "      <th>36</th>\n",
       "      <td>Monaco</td>\n",
       "      <td>MC</td>\n",
       "      <td>1.81</td>\n",
       "    </tr>\n",
       "    <tr>\n",
       "      <th>90</th>\n",
       "      <td>Japan</td>\n",
       "      <td>J</td>\n",
       "      <td>2.13</td>\n",
       "    </tr>\n",
       "    <tr>\n",
       "      <th>109</th>\n",
       "      <td>Bermuda</td>\n",
       "      <td>BERM</td>\n",
       "      <td>2.48</td>\n",
       "    </tr>\n",
       "    <tr>\n",
       "      <th>34</th>\n",
       "      <td>Norway</td>\n",
       "      <td>N</td>\n",
       "      <td>2.48</td>\n",
       "    </tr>\n",
       "    <tr>\n",
       "      <th>98</th>\n",
       "      <td>Singapore</td>\n",
       "      <td>SGP</td>\n",
       "      <td>2.53</td>\n",
       "    </tr>\n",
       "    <tr>\n",
       "      <th>35</th>\n",
       "      <td>Sweden</td>\n",
       "      <td>S</td>\n",
       "      <td>2.60</td>\n",
       "    </tr>\n",
       "    <tr>\n",
       "      <th>8</th>\n",
       "      <td>Czech Republic</td>\n",
       "      <td>CZ</td>\n",
       "      <td>2.63</td>\n",
       "    </tr>\n",
       "    <tr>\n",
       "      <th>72</th>\n",
       "      <td>Hong Kong</td>\n",
       "      <td>HONX</td>\n",
       "      <td>2.73</td>\n",
       "    </tr>\n",
       "    <tr>\n",
       "      <th>73</th>\n",
       "      <td>Macao</td>\n",
       "      <td>MACX</td>\n",
       "      <td>3.13</td>\n",
       "    </tr>\n",
       "    <tr>\n",
       "      <th>39</th>\n",
       "      <td>Iceland</td>\n",
       "      <td>IS</td>\n",
       "      <td>3.15</td>\n",
       "    </tr>\n",
       "  </tbody>\n",
       "</table>\n",
       "</div>"
      ],
      "text/plain": [
       "            country  code  infant_mortality\n",
       "36           Monaco    MC              1.81\n",
       "90            Japan     J              2.13\n",
       "109         Bermuda  BERM              2.48\n",
       "34           Norway     N              2.48\n",
       "98        Singapore   SGP              2.53\n",
       "35           Sweden     S              2.60\n",
       "8    Czech Republic    CZ              2.63\n",
       "72        Hong Kong  HONX              2.73\n",
       "73            Macao  MACX              3.13\n",
       "39          Iceland    IS              3.15"
      ]
     },
     "execution_count": 264,
     "metadata": {},
     "output_type": "execute_result"
    }
   ],
   "source": [
    "#find the top 10 countries with the smallest infant mortality rate\n",
    "mort_df.sort_values(by='infant_mortality').head(10)"
   ]
  },
  {
   "cell_type": "code",
   "execution_count": 276,
   "metadata": {
    "collapsed": false
   },
   "outputs": [],
   "source": [
    "#create dataframe and declare index counter\n",
    "cities = pd.DataFrame(columns=('city','population'))\n",
    "i = 0\n",
    "\n",
    "for element in document.findall('country'):\n",
    "    for child in element.iter('city'):\n",
    "        p = 0\n",
    "        y = 0\n",
    "        for population in child.findall('population'):\n",
    "            #set p from population where year > previous year\n",
    "            if population.text is not None and population.get('year') is not None and int(population.get('year'))>=y:\n",
    "                p = int(population.text)\n",
    "                y = int(population.get('year'))\n",
    "        #We may hve a city with 0 population, so filter those out\n",
    "        if child.find('name') is not None and p>0:\n",
    "            cities.loc[i]=([str(child.find('name').text),p])\n",
    "            i=i+1\n"
   ]
  },
  {
   "cell_type": "code",
   "execution_count": 277,
   "metadata": {
    "collapsed": false
   },
   "outputs": [
    {
     "name": "stdout",
     "output_type": "stream",
     "text": [
      "              city  population\n",
      "0           Tirana    418495.0\n",
      "1          Shkodër     77075.0\n",
      "2           Durrës    113249.0\n",
      "3            Vlorë     79513.0\n",
      "4          Elbasan     78703.0\n",
      "5            Korçë     51152.0\n",
      "6           Kavala     58790.0\n",
      "7           Athina    664046.0\n",
      "8         Peiraias    163688.0\n",
      "9        Peristeri    139981.0\n",
      "10        Acharnes    106943.0\n",
      "11           Patra    213984.0\n",
      "12         Kerkyra    102071.0\n",
      "13        Ioannina    112486.0\n",
      "14    Thessaloniki    325182.0\n",
      "15         Iraklio    173993.0\n",
      "16          Chania    108642.0\n",
      "17          Rhodes    115490.0\n",
      "18           Lamia     75315.0\n",
      "19        Chalkida    102223.0\n",
      "20         Larissa    162591.0\n",
      "21           Volos    144449.0\n",
      "22          Karyes       233.0\n",
      "23          Skopje    514967.0\n",
      "24        Kumanovo    107745.0\n",
      "25         Beograd   1639121.0\n",
      "26        Novi Sad    335701.0\n",
      "27             Niš    257867.0\n",
      "28       Podgorica    150977.0\n",
      "29       Prishtine    198214.0\n",
      "...            ...         ...\n",
      "3018            Bo    149957.0\n",
      "3019       Kampala   1516210.0\n",
      "3020       Mbarara    195013.0\n",
      "3021        Mukono    161996.0\n",
      "3022        Maseru    227880.0\n",
      "3023   Antsiranana     59040.0\n",
      "3024  Antananarivo    710236.0\n",
      "3025     Antsirabe    126062.0\n",
      "3026  Fianarantsoa    109260.0\n",
      "3027       Majunga    106780.0\n",
      "3028      Tamatave    137782.0\n",
      "3029       Toliara     80826.0\n",
      "3030      Lilongwe    674448.0\n",
      "3031      Blantyre    661256.0\n",
      "3032         Pemba    138716.0\n",
      "3033       Xai-Xai    115752.0\n",
      "3034     Inhambane     65149.0\n",
      "3035       Chimoio    237497.0\n",
      "3036  Nacala Porto    206449.0\n",
      "3037        Matola    671556.0\n",
      "3038       Nampula    471717.0\n",
      "3039      Lichinga    142331.0\n",
      "3040         Beira    431583.0\n",
      "3041          Tete    155870.0\n",
      "3042     Quelimane    193343.0\n",
      "3043        Maputo   1094628.0\n",
      "3044       Mbabane     57992.0\n",
      "3045   Saint-Denis    145347.0\n",
      "3046      São Tomé     49957.0\n",
      "3047      Victoria     24970.0\n",
      "\n",
      "[3048 rows x 2 columns]\n"
     ]
    }
   ],
   "source": [
    "print (cities)"
   ]
  },
  {
   "cell_type": "code",
   "execution_count": 278,
   "metadata": {
    "collapsed": false
   },
   "outputs": [
    {
     "data": {
      "text/html": [
       "<div>\n",
       "<table border=\"1\" class=\"dataframe\">\n",
       "  <thead>\n",
       "    <tr style=\"text-align: right;\">\n",
       "      <th></th>\n",
       "      <th>city</th>\n",
       "      <th>population</th>\n",
       "    </tr>\n",
       "  </thead>\n",
       "  <tbody>\n",
       "    <tr>\n",
       "      <th>1250</th>\n",
       "      <td>Shanghai</td>\n",
       "      <td>22315474.0</td>\n",
       "    </tr>\n",
       "    <tr>\n",
       "      <th>706</th>\n",
       "      <td>Istanbul</td>\n",
       "      <td>13710512.0</td>\n",
       "    </tr>\n",
       "    <tr>\n",
       "      <th>1420</th>\n",
       "      <td>Mumbai</td>\n",
       "      <td>12442373.0</td>\n",
       "    </tr>\n",
       "    <tr>\n",
       "      <th>442</th>\n",
       "      <td>Moskva</td>\n",
       "      <td>11979529.0</td>\n",
       "    </tr>\n",
       "    <tr>\n",
       "      <th>1249</th>\n",
       "      <td>Beijing</td>\n",
       "      <td>11716620.0</td>\n",
       "    </tr>\n",
       "    <tr>\n",
       "      <th>2592</th>\n",
       "      <td>São Paulo</td>\n",
       "      <td>11152344.0</td>\n",
       "    </tr>\n",
       "    <tr>\n",
       "      <th>1251</th>\n",
       "      <td>Tianjin</td>\n",
       "      <td>11090314.0</td>\n",
       "    </tr>\n",
       "    <tr>\n",
       "      <th>973</th>\n",
       "      <td>Guangzhou</td>\n",
       "      <td>11071424.0</td>\n",
       "    </tr>\n",
       "    <tr>\n",
       "      <th>1466</th>\n",
       "      <td>Delhi</td>\n",
       "      <td>11034555.0</td>\n",
       "    </tr>\n",
       "    <tr>\n",
       "      <th>976</th>\n",
       "      <td>Shenzhen</td>\n",
       "      <td>10358381.0</td>\n",
       "    </tr>\n",
       "  </tbody>\n",
       "</table>\n",
       "</div>"
      ],
      "text/plain": [
       "           city  population\n",
       "1250   Shanghai  22315474.0\n",
       "706    Istanbul  13710512.0\n",
       "1420     Mumbai  12442373.0\n",
       "442      Moskva  11979529.0\n",
       "1249    Beijing  11716620.0\n",
       "2592  São Paulo  11152344.0\n",
       "1251    Tianjin  11090314.0\n",
       "973   Guangzhou  11071424.0\n",
       "1466      Delhi  11034555.0\n",
       "976    Shenzhen  10358381.0"
      ]
     },
     "execution_count": 278,
     "metadata": {},
     "output_type": "execute_result"
    }
   ],
   "source": [
    "#10 cities with largest population\n",
    "#cities.nlargest(10,'population')\n",
    "cities.sort_values(by='population',ascending=False).head(10)"
   ]
  },
  {
   "cell_type": "code",
   "execution_count": 279,
   "metadata": {
    "collapsed": false
   },
   "outputs": [],
   "source": [
    "#create dataframe and declare index counter\n",
    "egroups = pd.DataFrame(columns=('group','population'))\n",
    "i = 0\n",
    "\n",
    "for element in document.findall('country'):\n",
    "    p = 0\n",
    "    y = 0\n",
    "    #Get the population of the country just like the cities above\n",
    "    for population in element.findall('population'):\n",
    "        if population.text is not None and population.get('year') is not None and int(population.get('year'))>y:\n",
    "            p = int(population.text)\n",
    "            y = int(population.get('year'))\n",
    "    for child in element.findall('ethnicgroup'):\n",
    "        #check for nulls and do not add those to the df, cast columns desired dtypes.\n",
    "        #I convert population of group to int because you do not have .2 of a person in reality\n",
    "        if child.get('percentage') is not None and p>0:\n",
    "            egroups.loc[i]=([str(child.text),int(p * ((float(child.get('percentage')))/100))])\n",
    "            i=i+1\n"
   ]
  },
  {
   "cell_type": "code",
   "execution_count": 280,
   "metadata": {
    "collapsed": false
   },
   "outputs": [
    {
     "name": "stdout",
     "output_type": "stream",
     "text": [
      "                    group  population\n",
      "0                Albanian   2660131.0\n",
      "1                   Greek     84004.0\n",
      "2                   Greek  10059145.0\n",
      "3              Macedonian   1322387.0\n",
      "4                Albanian    519068.0\n",
      "5                 Turkish     80331.0\n",
      "6                   Gypsy     55614.0\n",
      "7                    Serb     37076.0\n",
      "8                    Serb   5903032.0\n",
      "9             Montenegrin     64085.0\n",
      "10              Hungarian    277705.0\n",
      "11                   Roma     99689.0\n",
      "12                Bosniak    128171.0\n",
      "13                  Croat     78327.0\n",
      "14            Montenegrin    266612.0\n",
      "15                   Serb    198409.0\n",
      "16                Bosniak     49602.0\n",
      "17               Albanian     31001.0\n",
      "18               Albanian   1595162.0\n",
      "19                Serbian     86693.0\n",
      "20                Spanish     33589.0\n",
      "21               Andorran     25777.0\n",
      "22             Portuguese      8592.0\n",
      "23                 French      1562.0\n",
      "24                African      3905.0\n",
      "25   Mediterranean Nordic  46815916.0\n",
      "26               Austrian   7743280.0\n",
      "27                Turkish    135996.0\n",
      "28                Slovene     84997.0\n",
      "29                  Croat    169995.0\n",
      "..                    ...         ...\n",
      "598               African   1570757.0\n",
      "599                 Asian     57519.0\n",
      "600               African   5694456.0\n",
      "601                Rwanda   2091408.0\n",
      "602                  Arab    348568.0\n",
      "603               Baganda   5925658.0\n",
      "604            Karamojong   4182817.0\n",
      "605                Basogo   2788545.0\n",
      "606                 Iteso   2788545.0\n",
      "607                 Langi   2091408.0\n",
      "608                Bagisu   1742840.0\n",
      "609                Acholi   1394272.0\n",
      "610               Lugbara   1394272.0\n",
      "611               Bunyoro   1045704.0\n",
      "612                Batobo   1045704.0\n",
      "613                 Sotho   2002894.0\n",
      "614              European     14220.0\n",
      "615                Indian     18960.0\n",
      "616          Euro-African     47401.0\n",
      "617                Creole    334014.0\n",
      "618        Indo-Mauritian    841221.0\n",
      "619        Sino-Mauritian     37112.0\n",
      "620      Franco-Mauritian     24741.0\n",
      "621              European     35794.0\n",
      "622               African   1157353.0\n",
      "623       African descent      2831.0\n",
      "624                 White      1415.0\n",
      "625               Chinese      1415.0\n",
      "626              European    187356.0\n",
      "627           Seychellois     90945.0\n",
      "\n",
      "[628 rows x 2 columns]\n"
     ]
    }
   ],
   "source": [
    "print (egroups)"
   ]
  },
  {
   "cell_type": "code",
   "execution_count": 281,
   "metadata": {
    "collapsed": false
   },
   "outputs": [],
   "source": [
    "#sum the population of each group\n",
    "esum = egroups.groupby('group').sum()"
   ]
  },
  {
   "cell_type": "code",
   "execution_count": 282,
   "metadata": {
    "collapsed": false
   },
   "outputs": [
    {
     "data": {
      "text/html": [
       "<div>\n",
       "<table border=\"1\" class=\"dataframe\">\n",
       "  <thead>\n",
       "    <tr style=\"text-align: right;\">\n",
       "      <th></th>\n",
       "      <th>population</th>\n",
       "    </tr>\n",
       "    <tr>\n",
       "      <th>group</th>\n",
       "      <th></th>\n",
       "    </tr>\n",
       "  </thead>\n",
       "  <tbody>\n",
       "    <tr>\n",
       "      <th>Han Chinese</th>\n",
       "      <td>1.245059e+09</td>\n",
       "    </tr>\n",
       "    <tr>\n",
       "      <th>Indo-Aryan</th>\n",
       "      <td>8.718156e+08</td>\n",
       "    </tr>\n",
       "    <tr>\n",
       "      <th>European</th>\n",
       "      <td>4.948722e+08</td>\n",
       "    </tr>\n",
       "    <tr>\n",
       "      <th>African</th>\n",
       "      <td>3.183251e+08</td>\n",
       "    </tr>\n",
       "    <tr>\n",
       "      <th>Dravidian</th>\n",
       "      <td>3.027137e+08</td>\n",
       "    </tr>\n",
       "    <tr>\n",
       "      <th>Mestizo</th>\n",
       "      <td>1.577343e+08</td>\n",
       "    </tr>\n",
       "    <tr>\n",
       "      <th>Bengali</th>\n",
       "      <td>1.467769e+08</td>\n",
       "    </tr>\n",
       "    <tr>\n",
       "      <th>Russian</th>\n",
       "      <td>1.318570e+08</td>\n",
       "    </tr>\n",
       "    <tr>\n",
       "      <th>Japanese</th>\n",
       "      <td>1.265342e+08</td>\n",
       "    </tr>\n",
       "    <tr>\n",
       "      <th>Malay</th>\n",
       "      <td>1.219935e+08</td>\n",
       "    </tr>\n",
       "  </tbody>\n",
       "</table>\n",
       "</div>"
      ],
      "text/plain": [
       "               population\n",
       "group                    \n",
       "Han Chinese  1.245059e+09\n",
       "Indo-Aryan   8.718156e+08\n",
       "European     4.948722e+08\n",
       "African      3.183251e+08\n",
       "Dravidian    3.027137e+08\n",
       "Mestizo      1.577343e+08\n",
       "Bengali      1.467769e+08\n",
       "Russian      1.318570e+08\n",
       "Japanese     1.265342e+08\n",
       "Malay        1.219935e+08"
      ]
     },
     "execution_count": 282,
     "metadata": {},
     "output_type": "execute_result"
    }
   ],
   "source": [
    "#10 largest ethnic groups\n",
    "#esum.nlargest(10,'population')\n",
    "esum.sort_values(by='population',ascending=False).head(10)"
   ]
  },
  {
   "cell_type": "code",
   "execution_count": 223,
   "metadata": {
    "collapsed": false
   },
   "outputs": [],
   "source": [
    "#create dataframe and declare length variable\n",
    "#we are going to loop through the xml doc and replace our rows in the dataframe when\n",
    "#we find a new lenght > previous length\n",
    "#we should end up with a dataframe that has the country(s) with the one longest river\n",
    "rivers = pd.DataFrame(columns=('name','country','length'))\n",
    "l = 0\n",
    "\n",
    "for river in document.findall('river'):\n",
    "    #create an empty list to split country codes into\n",
    "    countries = []\n",
    "    if river.attrib is not None:\n",
    "        countries = river.attrib['country'].split()\n",
    "    if river.find('length') is not None and float(river.find('length').text)>l:\n",
    "        #We have a river, with a longer length, so let's loop through the country codes and add to df\n",
    "        l = float(river.find('length').text)\n",
    "        for code in countries:\n",
    "            #Let's get the country name from our mort_df dataframe, but first make sure we have that code\n",
    "            if len(mort_df[mort_df['code'].astype(str).str.contains(code)])>0:\n",
    "                cname = mort_df.loc[mort_df['code'] == code, 'country'].iloc[0]\n",
    "                #clear the dataframe\n",
    "                rivers.iloc[0:0]\n",
    "                i = 0\n",
    "                #We now have the river name, length and country so add it to the empty dataframe\n",
    "                if len(cname)>0:\n",
    "                    rivers.loc[i]=([str(river.find('name').text),cname,l])\n",
    "                    i=i+1\n"
   ]
  },
  {
   "cell_type": "code",
   "execution_count": 224,
   "metadata": {
    "collapsed": false
   },
   "outputs": [
    {
     "name": "stdout",
     "output_type": "stream",
     "text": [
      "       name country  length\n",
      "0  Amazonas    Peru  6448.0\n"
     ]
    }
   ],
   "source": [
    "print(rivers)"
   ]
  },
  {
   "cell_type": "code",
   "execution_count": 225,
   "metadata": {
    "collapsed": true
   },
   "outputs": [],
   "source": [
    "#Let's repeat this for lakes and airports\n",
    "lakes = pd.DataFrame(columns=('name','country','area'))\n",
    "l = 0\n",
    "\n",
    "for lake in document.findall('lake'):\n",
    "    countries = []\n",
    "    if lake.find('area') is not None and float(lake.find('area').text)>l:\n",
    "        countries = lake.attrib['country'].split()\n",
    "        l = float(lake.find('area').text)\n",
    "        for code in countries:\n",
    "            if len(mort_df[mort_df['code'].astype(str).str.contains(code)])>0:\n",
    "                cname = mort_df.loc[mort_df['code'] == code, 'country'].iloc[0]\n",
    "                lakes.iloc[0:0]\n",
    "                i = 0\n",
    "                if len(cname)>0:\n",
    "                    lakes.loc[i]=([str(lake.find('name').text),cname,l])\n",
    "                    i=i+1\n"
   ]
  },
  {
   "cell_type": "code",
   "execution_count": 254,
   "metadata": {
    "collapsed": false
   },
   "outputs": [
    {
     "name": "stdout",
     "output_type": "stream",
     "text": [
      "          name       country      area\n",
      "0  Caspian Sea  Turkmenistan  386400.0\n"
     ]
    }
   ],
   "source": [
    "print (lakes)"
   ]
  },
  {
   "cell_type": "code",
   "execution_count": 228,
   "metadata": {
    "collapsed": false
   },
   "outputs": [],
   "source": [
    "airports = pd.DataFrame(columns=('name','country','elevation'))\n",
    "l = 0\n",
    "\n",
    "for airport in document.findall('airport'):\n",
    "    countries = []\n",
    "    if airport.find('elevation').text is not None and float(airport.find('elevation').text)>l:\n",
    "        countries = airport.attrib['country'].split()\n",
    "        l = float(airport.find('elevation').text)\n",
    "        for code in countries:\n",
    "            if len(mort_df[mort_df['code'].astype(str).str.contains(code)])>0:\n",
    "                cname = mort_df.loc[mort_df['code'] == code, 'country'].iloc[0]\n",
    "                airports.iloc[0:0]\n",
    "                i = 0\n",
    "                if len(cname)>0:\n",
    "                    airports.loc[i]=([str(airport.find('name').text),cname,l])\n",
    "                    i=i+1\n"
   ]
  },
  {
   "cell_type": "code",
   "execution_count": 229,
   "metadata": {
    "collapsed": false
   },
   "outputs": [
    {
     "name": "stdout",
     "output_type": "stream",
     "text": [
      "           name  country  elevation\n",
      "0  El Alto Intl  Bolivia     4063.0\n"
     ]
    }
   ],
   "source": [
    "print(airports)"
   ]
  },
  {
   "cell_type": "code",
   "execution_count": 240,
   "metadata": {
    "collapsed": false
   },
   "outputs": [
    {
     "name": "stdout",
     "output_type": "stream",
     "text": [
      "The longest river is Amazonas, in Peru, with a length of 6448.0\n",
      "The largest lake is Caspian Sea, in Turkmenistan, with an area of 386400.0\n",
      "The highest airport is El Alto Intl, in Bolivia, with an elevation of 4063.0\n"
     ]
    }
   ],
   "source": [
    "print('The longest river is '+rivers.loc[0]['name']+', in '+rivers.loc[0]['country']+', with a length of '+\n",
    "      str(rivers.loc[0]['length'])+'\\n'+\n",
    "     'The largest lake is '+lakes.loc[0]['name']+', in '+lakes.loc[0]['country']+', with an area of '+\n",
    "      str(lakes.loc[0]['area'])+'\\n'+\n",
    "     'The highest airport is '+airports.loc[0]['name']+', in '+airports.loc[0]['country']+', with an elevation of '+\n",
    "      str(airports.loc[0]['elevation']))"
   ]
  },
  {
   "cell_type": "code",
   "execution_count": null,
   "metadata": {
    "collapsed": true
   },
   "outputs": [],
   "source": []
  }
 ],
 "metadata": {
  "kernelspec": {
   "display_name": "Python 3",
   "language": "python",
   "name": "python3"
  },
  "language_info": {
   "codemirror_mode": {
    "name": "ipython",
    "version": 3
   },
   "file_extension": ".py",
   "mimetype": "text/x-python",
   "name": "python",
   "nbconvert_exporter": "python",
   "pygments_lexer": "ipython3",
   "version": "3.6.0"
  }
 },
 "nbformat": 4,
 "nbformat_minor": 0
}
